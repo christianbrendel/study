{
 "cells": [
  {
   "cell_type": "markdown",
   "metadata": {},
   "source": [
    "# Modulus Rules"
   ]
  },
  {
   "cell_type": "code",
   "execution_count": 1,
   "metadata": {},
   "outputs": [
    {
     "name": "stdout",
     "output_type": "stream",
     "text": [
      "True True True\n",
      "True True True\n",
      "True True True\n",
      "True True True\n",
      "True True True\n",
      "True True True\n",
      "True True True\n",
      "True True True\n",
      "True True True\n",
      "True True True\n"
     ]
    }
   ],
   "source": [
    "# Double check that the rules I have used in the derivations are indeed correct.\n",
    "\n",
    "import random\n",
    "\n",
    "for _ in range(10):\n",
    "    m = random.randint(-100, 100)\n",
    "    a = random.randint(-100, 100)\n",
    "    b = random.randint(-100, 100)\n",
    "    c = random.randint(1, 100)\n",
    "    \n",
    "    statement_1 = (a+b)%m == (a%m + b%m)%m\n",
    "    statement_2 = (a*m)%m == 0\n",
    "    statement_3 = (a*b*c)%m == ((a*b)%m * c)%m\n",
    "    \n",
    "    print(statement_1, statement_2, statement_3)"
   ]
  },
  {
   "cell_type": "markdown",
   "metadata": {},
   "source": [
    "# Toy Model"
   ]
  },
  {
   "cell_type": "code",
   "execution_count": 2,
   "metadata": {},
   "outputs": [
    {
     "name": "stdout",
     "output_type": "stream",
     "text": [
      "------------------------------------------------------------\n",
      "sk:                                  3\n",
      "pk:                                  9\n",
      "validity of keys:                    True\n",
      "msg:                                 Hello, how are you?\n",
      "hash(msg):                           8\n",
      "signature:                           24\n",
      "validity using correct signature:    True\n",
      "validity using incorrect signature:  False\n",
      "------------------------------------------------------------\n",
      "sk:                                  1\n",
      "pk:                                  8\n",
      "validity of keys:                    False\n",
      "msg:                                 Hello, how are you?\n",
      "hash(msg):                           8\n",
      "signature:                           8\n",
      "validity using correct signature:    False\n",
      "validity using incorrect signature:  False\n"
     ]
    }
   ],
   "source": [
    "C = 26\n",
    "\n",
    "def simple_hash_function(message):\n",
    "    return sum(bytearray(message, 'utf-8')) % C\n",
    "\n",
    "def check_keys(sk, pk):\n",
    "    return (sk * pk) % C == 1\n",
    "    \n",
    "def sign_message(sk, message):\n",
    "    hashed_message = simple_hash_function(message)\n",
    "    signature = hashed_message * sk % C\n",
    "    return signature\n",
    "\n",
    "def verify_signature(pk, message, signature):\n",
    "    hashed_message = simple_hash_function(message)\n",
    "    if (signature * pk) % C == hashed_message:\n",
    "        return True\n",
    "    return False\n",
    "\n",
    "\n",
    "for sk, pk in [(3,9), (1, 8)]:\n",
    "    \n",
    "    print(\"-\" * 60)\n",
    "\n",
    "    message = \"Hello, how are you?\"\n",
    "    signature = sign_message(sk, message)\n",
    "    is_valid = verify_signature(pk, message, signature)\n",
    "    is_valid_2 = verify_signature(pk, message, signature+1)\n",
    "\n",
    "    print(\"sk:                                 \", sk)\n",
    "    print(\"pk:                                 \", pk)\n",
    "    print(\"validity of keys:                   \", check_keys(sk, pk))  \n",
    "    print(\"msg:                                \", message)\n",
    "    print(\"hash(msg):                          \", simple_hash_function(message))\n",
    "    print(\"signature:                          \", signature)\n",
    "    print(\"validity using correct signature:   \", is_valid)\n",
    "    print(\"validity using incorrect signature: \", is_valid_2)"
   ]
  }
 ],
 "metadata": {
  "kernelspec": {
   "display_name": "rl",
   "language": "python",
   "name": "python3"
  },
  "language_info": {
   "codemirror_mode": {
    "name": "ipython",
    "version": 3
   },
   "file_extension": ".py",
   "mimetype": "text/x-python",
   "name": "python",
   "nbconvert_exporter": "python",
   "pygments_lexer": "ipython3",
   "version": "3.9.6"
  }
 },
 "nbformat": 4,
 "nbformat_minor": 2
}
