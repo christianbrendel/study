{
 "cells": [
  {
   "cell_type": "code",
   "execution_count": 1,
   "metadata": {},
   "outputs": [],
   "source": [
    "from micrograd import *\n",
    "import numpy as np\n",
    "import matplotlib.pyplot as plt\n",
    "from PIL import Image\n",
    "\n",
    "import random\n",
    "\n",
    "random.seed(1234)"
   ]
  },
  {
   "cell_type": "code",
   "execution_count": 2,
   "metadata": {},
   "outputs": [
    {
     "data": {
      "image/png": "[encoded data removed]",
      "text/plain": [
       "<Figure size 800x800 with 2 Axes>"
      ]
     },
     "metadata": {},
     "output_type": "display_data"
    }
   ],
   "source": [
    "def load_image(path):\n",
    "    img = Image.open(path)\n",
    "    img_array = np.array(img)[:,:,0]\n",
    "    return (img_array > 128).astype(int)\n",
    "\n",
    "IMG = load_image(\"smiley_wink_r100.jpeg\")\n",
    "\n",
    "# training data\n",
    "def f(x, y):\n",
    "    h, w = IMG.shape\n",
    "    i = max(0, min(int(x*h), h-1))\n",
    "    j = max(0, min(int(y*w), w-1))\n",
    "    return IMG[i, j]\n",
    "\n",
    "def f(x, y):\n",
    "    return (x-0.3)**2 + (y-0.2)**2 < 0.25\n",
    "\n",
    "def f(x, y):\n",
    "\n",
    "    left_eye = ((x-0.3)**2 + (y-0.3)**2 < 0.025)\n",
    "    right_eye = ((x-0.3)**2 + (y-0.7)**2 < 0.025)\n",
    "\n",
    "    upper_lip = ((x-0.2)**2 + (y-0.5)**2 < 0.35)\n",
    "    lower_lip = ((x-0.5)**2 + (y-0.5)**2 < 0.15)\n",
    "    mouth = ~upper_lip and lower_lip\n",
    "    \n",
    "    return left_eye or right_eye or mouth\n",
    "\n",
    "\n",
    "# visualize training data\n",
    "data = []\n",
    "for x in np.linspace(0,1,100):\n",
    "    for y in np.linspace(0,1,100):\n",
    "        data.append([f(x,y)])\n",
    "\n",
    "plt.figure(figsize=(8,8))\n",
    "plt.imshow(np.array(data).reshape(100,100), cmap='gray')\n",
    "plt.colorbar()\n",
    "plt.show()"
   ]
  },
  {
   "cell_type": "code",
   "execution_count": 3,
   "metadata": {},
   "outputs": [
    {
     "name": "stdout",
     "output_type": "stream",
     "text": [
      "epoch 50 loss 0.669\n",
      "epoch 100 loss 0.659\n",
      "epoch 150 loss 0.525\n",
      "epoch 200 loss 0.627\n",
      "epoch 250 loss 0.572\n",
      "epoch 300 loss 0.517\n",
      "epoch 350 loss 0.471\n",
      "epoch 400 loss 0.488\n",
      "epoch 404 loss 0.499\r"
     ]
    }
   ],
   "source": [
    "i_epoch = 0\n",
    "mlp = MLP(2, [25, 25, 25, 25, 1])\n",
    "batch_size = 64\n",
    "learning_rate = 0.005\n",
    "\n",
    "def compute_bce_loss(Y_pred, Y_target):\n",
    "    assert len(Y_pred) == len(Y_target)\n",
    "    loss = 0.0\n",
    "    for y_pred, y_target in zip(Y_pred, Y_target):\n",
    "        loss += -y_target*y_pred.log() - (1 - y_target)*(1 - y_pred).log()\n",
    "    loss /= len(Y_pred)\n",
    "    return loss\n",
    "\n",
    "\n",
    "for k in range(500):\n",
    "\n",
    "    # sample a random point in [0,1] x [0,1]\n",
    "    X = [[random.random(), random.random()] for _ in range(batch_size)]\n",
    "    Y_target = [f(x[0], x[1]) for x in X]\n",
    "\n",
    "    # forward pass\n",
    "    Y_pred = [mlp(x).sigmoid() for x in X]\n",
    "    \n",
    "    # compute loss (BCE)\n",
    "    loss = compute_bce_loss(Y_pred, Y_target)\n",
    "    \n",
    "    # backward pass\n",
    "    for p in mlp.parameters():\n",
    "        p.grad = 0.0\n",
    "    loss.backward()\n",
    "\n",
    "    # update\n",
    "    for p in mlp.parameters():\n",
    "        p.data -= learning_rate * p.grad\n",
    "\n",
    "    # log\n",
    "    i_epoch += 1\n",
    "    print(f\"epoch {i_epoch} loss {loss.data:.3f}\", end=\"\\r\")\n",
    "    if i_epoch % 50 == 0:\n",
    "        print()"
   ]
  },
  {
   "cell_type": "code",
   "execution_count": null,
   "metadata": {},
   "outputs": [],
   "source": [
    "# visualize training result\n",
    "data = []\n",
    "for x in np.linspace(0,1,20):\n",
    "    for y in np.linspace(0,1,20):\n",
    "        data.append(mlp([x,y]).sigmoid().data)\n",
    "\n",
    "plt.figure(figsize=(8,8))\n",
    "plt.imshow(np.array(data).reshape(20,20), cmap='gray')\n",
    "plt.colorbar()\n",
    "plt.show()"
   ]
  },
  {
   "cell_type": "code",
   "execution_count": 7,
   "metadata": {},
   "outputs": [
    {
     "name": "stdout",
     "output_type": "stream",
     "text": [
      "epoch 1\n"
     ]
    }
   ],
   "source": [
    "for i_epoch in range(10000):\n",
    "\n",
    "    if (i_epoch-1 % 250 == 0) or (i_epoch == 1):\n",
    "        print(f\"epoch {i_epoch}\")"
   ]
  },
  {
   "cell_type": "code",
   "execution_count": 3,
   "metadata": {},
   "outputs": [
    {
     "data": {
      "text/plain": [
       "0"
      ]
     },
     "execution_count": 3,
     "metadata": {},
     "output_type": "execute_result"
    }
   ],
   "source": [
    "i_epoch = 1000\n",
    "i_epoch % 1000"
   ]
  },
  {
   "cell_type": "code",
   "execution_count": null,
   "metadata": {},
   "outputs": [],
   "source": []
  }
 ],
 "metadata": {
  "kernelspec": {
   "display_name": "combinatorical-optimization",
   "language": "python",
   "name": "python3"
  },
  "language_info": {
   "codemirror_mode": {
    "name": "ipython",
    "version": 3
   },
   "file_extension": ".py",
   "mimetype": "text/x-python",
   "name": "python",
   "nbconvert_exporter": "python",
   "pygments_lexer": "ipython3",
   "version": "3.8.16"
  },
  "orig_nbformat": 4
 },
 "nbformat": 4,
 "nbformat_minor": 2
}
